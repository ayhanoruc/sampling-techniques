{
 "cells": [
  {
   "cell_type": "code",
   "execution_count": 168,
   "id": "21d69be1",
   "metadata": {},
   "outputs": [],
   "source": [
    "import numpy as np \n",
    "import statistics\n",
    "import pandas as pd \n",
    "import random \n",
    "from sklearn.model_selection import train_test_split, StratifiedShuffleSplit\n",
    "import matplotlib.pyplot as plt "
   ]
  },
  {
   "cell_type": "code",
   "execution_count": 151,
   "id": "093c4a3a",
   "metadata": {},
   "outputs": [],
   "source": [
    "from sklearn.datasets import load_iris, fetch_california_housing"
   ]
  },
  {
   "cell_type": "code",
   "execution_count": 53,
   "id": "42302efa",
   "metadata": {},
   "outputs": [],
   "source": [
    "load_data = load_iris()"
   ]
  },
  {
   "cell_type": "code",
   "execution_count": 54,
   "id": "05666fd0",
   "metadata": {},
   "outputs": [],
   "source": [
    "df = pd.DataFrame(load_data.data , columns=load_data.feature_names)"
   ]
  },
  {
   "cell_type": "code",
   "execution_count": null,
   "id": "b19b8d73",
   "metadata": {},
   "outputs": [],
   "source": []
  },
  {
   "cell_type": "markdown",
   "id": "37ebb6cb",
   "metadata": {},
   "source": [
    "# A) RANDOM SAMPLING"
   ]
  },
  {
   "cell_type": "code",
   "execution_count": 63,
   "id": "3d720a3e",
   "metadata": {},
   "outputs": [],
   "source": [
    "df_population = df[\"sepal length (cm)\"]"
   ]
  },
  {
   "cell_type": "markdown",
   "id": "3e2a6da8",
   "metadata": {},
   "source": [
    "### 1. sampling with numpy random choice"
   ]
  },
  {
   "cell_type": "code",
   "execution_count": 106,
   "id": "ddfec57e",
   "metadata": {},
   "outputs": [
    {
     "data": {
      "text/plain": [
       "array([6.4, 4.4, 5.7, 5.6, 4.6, 5.7, 5.4, 7.7, 6.8, 5.4])"
      ]
     },
     "execution_count": 106,
     "metadata": {},
     "output_type": "execute_result"
    }
   ],
   "source": [
    "np.random.choice(df_population,size=10)"
   ]
  },
  {
   "cell_type": "markdown",
   "id": "e558072d",
   "metadata": {},
   "source": [
    "### 2. sampling with statistics module"
   ]
  },
  {
   "cell_type": "code",
   "execution_count": 107,
   "id": "723661c1",
   "metadata": {},
   "outputs": [
    {
     "data": {
      "text/plain": [
       "[5.9, 6.3, 5.8, 5.6, 5.1, 5.6, 6.6, 6.1, 4.4, 5.2]"
      ]
     },
     "execution_count": 107,
     "metadata": {},
     "output_type": "execute_result"
    }
   ],
   "source": [
    "statistics.random.choices(population=df_population,k=10)"
   ]
  },
  {
   "cell_type": "markdown",
   "id": "326dbb7f",
   "metadata": {},
   "source": [
    "### 3. sampling with random module"
   ]
  },
  {
   "cell_type": "code",
   "execution_count": 109,
   "id": "3f03e9e4",
   "metadata": {},
   "outputs": [
    {
     "data": {
      "text/plain": [
       "[6.7, 5.5, 6.4, 5.2, 5.6, 5.0, 5.0, 4.8, 7.2, 6.1]"
      ]
     },
     "execution_count": 109,
     "metadata": {},
     "output_type": "execute_result"
    }
   ],
   "source": [
    "random.sample(population=df_population.to_list(),k=10)"
   ]
  },
  {
   "cell_type": "markdown",
   "id": "bfbda264",
   "metadata": {},
   "source": [
    "### 4. stratified sampling with sklearn module"
   ]
  },
  {
   "cell_type": "code",
   "execution_count": 110,
   "id": "2b1c7d9d",
   "metadata": {},
   "outputs": [
    {
     "data": {
      "text/plain": [
       "110    6.5\n",
       "83     6.0\n",
       "120    6.9\n",
       "4      5.0\n",
       "34     4.9\n",
       "94     5.6\n",
       "145    6.7\n",
       "122    7.7\n",
       "149    5.9\n",
       "80     5.5\n",
       "Name: sepal length (cm), dtype: float64"
      ]
     },
     "execution_count": 110,
     "metadata": {},
     "output_type": "execute_result"
    }
   ],
   "source": [
    "train_test_split(df_population,train_size=10)[0]"
   ]
  },
  {
   "cell_type": "markdown",
   "id": "1aeb2aff",
   "metadata": {},
   "source": [
    "## EXPERIMENTING AND COMPARING SPEEDS W/ TIMEIT \n",
    "-r : 7\n",
    "\n",
    "-n : 100\n",
    "\n",
    "sample size = 100000 for each"
   ]
  },
  {
   "cell_type": "code",
   "execution_count": 68,
   "id": "071f39b1",
   "metadata": {},
   "outputs": [],
   "source": [
    "synth_data = np.random.randint(low=1,high=100000000,size= 1000000)"
   ]
  },
  {
   "cell_type": "code",
   "execution_count": 116,
   "id": "4c05661b",
   "metadata": {
    "scrolled": true
   },
   "outputs": [
    {
     "name": "stdout",
     "output_type": "stream",
     "text": [
      "997 µs ± 92.9 µs per loop (mean ± std. dev. of 7 runs, 100 loops each)\n"
     ]
    }
   ],
   "source": [
    "numpy = %timeit -r 7 -n 100 -o np.random.choice(synth_data,size=100000)"
   ]
  },
  {
   "cell_type": "code",
   "execution_count": 117,
   "id": "11f5bd9d",
   "metadata": {},
   "outputs": [],
   "source": [
    "numpy = numpy.average*1000"
   ]
  },
  {
   "cell_type": "code",
   "execution_count": 101,
   "id": "d2eaabc9",
   "metadata": {},
   "outputs": [
    {
     "name": "stdout",
     "output_type": "stream",
     "text": [
      "24 ms ± 1.68 ms per loop (mean ± std. dev. of 7 runs, 100 loops each)\n"
     ]
    }
   ],
   "source": [
    "stats = %timeit -r 7 -n 100 -o statistics.random.choices(population=synth_data,k=100000)"
   ]
  },
  {
   "cell_type": "code",
   "execution_count": 119,
   "id": "a0c30870",
   "metadata": {},
   "outputs": [],
   "source": [
    "stats= stats.average*1000"
   ]
  },
  {
   "cell_type": "code",
   "execution_count": 120,
   "id": "a6fa4a35",
   "metadata": {},
   "outputs": [
    {
     "name": "stdout",
     "output_type": "stream",
     "text": [
      "103 ms ± 8.23 ms per loop (mean ± std. dev. of 7 runs, 100 loops each)\n"
     ]
    }
   ],
   "source": [
    "rand = %timeit -r 7 -n 100 -o random.sample(population=synth_data.tolist(),k=100000)"
   ]
  },
  {
   "cell_type": "code",
   "execution_count": 121,
   "id": "14f2fb85",
   "metadata": {},
   "outputs": [],
   "source": [
    "rand = rand.average*1000"
   ]
  },
  {
   "cell_type": "code",
   "execution_count": 122,
   "id": "391dc14c",
   "metadata": {},
   "outputs": [
    {
     "name": "stdout",
     "output_type": "stream",
     "text": [
      "28.8 ms ± 587 µs per loop (mean ± std. dev. of 7 runs, 100 loops each)\n"
     ]
    }
   ],
   "source": [
    "sklearn = %timeit -r 7 -n 100 -o train_test_split(synth_data,train_size=100000)[0]"
   ]
  },
  {
   "cell_type": "code",
   "execution_count": 123,
   "id": "03dfd6d7",
   "metadata": {},
   "outputs": [],
   "source": [
    "sklearn = sklearn.average*1000"
   ]
  },
  {
   "cell_type": "markdown",
   "id": "7e55a9cc",
   "metadata": {},
   "source": [
    "## PLOT THE RESULTING TIMINGS"
   ]
  },
  {
   "cell_type": "code",
   "execution_count": 132,
   "id": "354a91b4",
   "metadata": {},
   "outputs": [],
   "source": [
    "import seaborn as sns "
   ]
  },
  {
   "cell_type": "code",
   "execution_count": 147,
   "id": "56615907",
   "metadata": {},
   "outputs": [
    {
     "data": {
      "text/plain": [
       "<Axes: >"
      ]
     },
     "execution_count": 147,
     "metadata": {},
     "output_type": "execute_result"
    },
    {
     "data": {
      "image/png": "[encoded data removed]",
      "text/plain": [
       "<Figure size 640x480 with 1 Axes>"
      ]
     },
     "metadata": {},
     "output_type": "display_data"
    }
   ],
   "source": [
    ";\n",
    "label=[\"numpy\",\"stats\",\"rand\",\"sklearn\"]\n",
    "data= [numpy,stats,rand,sklearn]\n",
    "sns.barplot(x=label,y=data)"
   ]
  },
  {
   "cell_type": "markdown",
   "id": "fd45a69f",
   "metadata": {},
   "source": [
    "***"
   ]
  },
  {
   "cell_type": "markdown",
   "id": "fbaa9cea",
   "metadata": {},
   "source": [
    "# B) STRATIFIED SAMPLING"
   ]
  },
  {
   "cell_type": "markdown",
   "id": "158b8d18",
   "metadata": {},
   "source": [
    "population is divided into non-overlapping subgroups or strata based on certain characteristics. Samples are then randomly selected from each stratum to ensure proportional representation.\n",
    "- Identify the characteristic (stratification variable) that defines the subgroups.\n",
    "- Divide the population into mutually exclusive strata based on this characteristic.\n",
    "- Randomly sample from each stratum independently to create the final sample\n",
    "\n",
    "for example: Suppose you're conducting a survey on a university campus with students from different majors. Stratified sampling involves creating strata based on majors (e.g., engineering, arts, sciences), and then randomly selecting students from each stratum."
   ]
  },
  {
   "cell_type": "code",
   "execution_count": null,
   "id": "8c498a4f",
   "metadata": {},
   "outputs": [],
   "source": []
  },
  {
   "cell_type": "code",
   "execution_count": 152,
   "id": "ab4ffd78",
   "metadata": {},
   "outputs": [],
   "source": [
    "df2= pd.DataFrame(data=fetch_california_housing().data,columns=fetch_california_housing().feature_names)"
   ]
  },
  {
   "cell_type": "code",
   "execution_count": 157,
   "id": "1213e3cf",
   "metadata": {},
   "outputs": [],
   "source": [
    "df2[\"HouseAge\"]= pd.qcut(df2[\"HouseAge\"],q=5, labels=['Q1', 'Q2', 'Q3', 'Q4', 'Q5'])"
   ]
  },
  {
   "cell_type": "markdown",
   "id": "32b53820",
   "metadata": {},
   "source": [
    "### 1. pandas groupby then sample randomly"
   ]
  },
  {
   "cell_type": "code",
   "execution_count": 166,
   "id": "982c07b4",
   "metadata": {},
   "outputs": [],
   "source": [
    "def random_sample(group):\n",
    "    return group.sample(n=100)\n",
    "    \n",
    "# return 100 random samples for each group"
   ]
  },
  {
   "cell_type": "code",
   "execution_count": 174,
   "id": "40bd83b7",
   "metadata": {
    "scrolled": false
   },
   "outputs": [
    {
     "name": "stdout",
     "output_type": "stream",
     "text": [
      "5.31 ms ± 537 µs per loop (mean ± std. dev. of 7 runs, 100 loops each)\n"
     ]
    }
   ],
   "source": [
    "%%timeit\n",
    "df2.groupby(\"HouseAge\").apply(random_sample) # total sample size = 100 *5 = 500"
   ]
  },
  {
   "cell_type": "markdown",
   "id": "16f3549b",
   "metadata": {},
   "source": [
    "### 2. sklearn StratifiedShuffleSplit"
   ]
  },
  {
   "cell_type": "code",
   "execution_count": 193,
   "id": "eb6997f1",
   "metadata": {},
   "outputs": [
    {
     "name": "stdout",
     "output_type": "stream",
     "text": [
      "17.5 ms ± 3.12 ms per loop (mean ± std. dev. of 7 runs, 100 loops each)\n"
     ]
    }
   ],
   "source": [
    "%%timeit \n",
    "sss= StratifiedShuffleSplit(n_splits=1, train_size=500)\n",
    "data_indices = next(sss.split(df2,df2[\"HouseAge\"]))\n",
    "df2.iloc[data_indices[0]]"
   ]
  },
  {
   "cell_type": "markdown",
   "id": "fab2a378",
   "metadata": {},
   "source": [
    "# C) SYSTEMATIC SAMPLING"
   ]
  },
  {
   "cell_type": "markdown",
   "id": "054e9091",
   "metadata": {},
   "source": [
    "It involves dividing the population size by the sample size to determine the \"sampling interval,\" and then selecting every nth item from the population.\n",
    "\n",
    "- Determine the total population size (N) and the desired sample size (n).\n",
    "- Calculate the sampling interval (k) as N/n.\n",
    "- Randomly select a starting point (a number between 1 and k).\n",
    "- Select every kth element from the population as the sample."
   ]
  },
  {
   "cell_type": "markdown",
   "id": "ead65552",
   "metadata": {},
   "source": [
    "Disadvantages:\n",
    "\n",
    "- Bias potential: If there is a hidden pattern or periodicity in the population, it may lead to bias in the sample.\n",
    "- Limited randomization: The randomness comes from the initial starting point, so if the starting point isn't truly random, it can introduce bias."
   ]
  },
  {
   "cell_type": "code",
   "execution_count": 206,
   "id": "96d0d4af",
   "metadata": {},
   "outputs": [
    {
     "data": {
      "text/plain": [
       "6      4.6\n",
       "21     5.1\n",
       "36     5.5\n",
       "51     6.4\n",
       "66     5.6\n",
       "81     5.5\n",
       "96     5.7\n",
       "111    6.4\n",
       "126    6.2\n",
       "141    6.9\n",
       "Name: sepal length (cm), dtype: float64"
      ]
     },
     "execution_count": 206,
     "metadata": {},
     "output_type": "execute_result"
    }
   ],
   "source": [
    "sample_size= 10 \n",
    "interval = int(df_population.size/10)\n",
    "df_population[random.randint(0,interval)::interval]\n"
   ]
  },
  {
   "cell_type": "markdown",
   "id": "a74d069e",
   "metadata": {},
   "source": [
    "# D) CLUSTER SAMPLING\n",
    "Cluster sampling is a probability sampling method where the population is divided into groups or clusters, and a random sample of clusters is selected. Then, all individuals within the selected clusters are included in the sample."
   ]
  },
  {
   "cell_type": "markdown",
   "id": "3afa785c",
   "metadata": {},
   "source": [
    "- Divide the population into non-overlapping clusters. Each cluster should ideally be a mini-representation of the population.\n",
    "- Randomly select a certain number of clusters from the population.\n",
    "- Include all individuals within the selected clusters in the sample"
   ]
  },
  {
   "cell_type": "markdown",
   "id": "54dbc132",
   "metadata": {},
   "source": [
    "- Suitable for large and geographically dispersed populations.\n",
    "- Reduces logistical challenges by sampling entire clusters rather than individuals.\n",
    "- Cost-effective and time-efficient, especially for geographically spread populations."
   ]
  },
  {
   "cell_type": "code",
   "execution_count": 212,
   "id": "c9021d0f",
   "metadata": {},
   "outputs": [],
   "source": [
    "\n",
    "# Create clusters (e.g., groups of 10 individuals)\n",
    "clusters = [df_population[i:i+10] for i in range(0, len(df_population), 10)]\n",
    "\n",
    "# Select random clusters\n",
    "sample_size = 3\n",
    "selected_clusters = random.sample(clusters, sample_size)\n",
    "\n",
    "# Flatten selected clusters to get the sample\n",
    "cluster_sample = [individual for cluster in selected_clusters for individual in cluster] # >>> 3*10 = 30\n",
    "# for individual element in a cluster that is selected randomly from clusters"
   ]
  },
  {
   "cell_type": "code",
   "execution_count": 213,
   "id": "42e4d080",
   "metadata": {},
   "outputs": [
    {
     "data": {
      "text/plain": [
       "[7.0,\n",
       " 6.4,\n",
       " 6.9,\n",
       " 5.5,\n",
       " 6.5,\n",
       " 5.7,\n",
       " 6.3,\n",
       " 4.9,\n",
       " 6.6,\n",
       " 5.2,\n",
       " 6.3,\n",
       " 5.8,\n",
       " 7.1,\n",
       " 6.3,\n",
       " 6.5,\n",
       " 7.6,\n",
       " 4.9,\n",
       " 7.3,\n",
       " 6.7,\n",
       " 7.2,\n",
       " 5.4,\n",
       " 5.1,\n",
       " 4.6,\n",
       " 5.1,\n",
       " 4.8,\n",
       " 5.0,\n",
       " 5.0,\n",
       " 5.2,\n",
       " 5.2,\n",
       " 4.7]"
      ]
     },
     "execution_count": 213,
     "metadata": {},
     "output_type": "execute_result"
    }
   ],
   "source": [
    "cluster_sample"
   ]
  },
  {
   "cell_type": "code",
   "execution_count": null,
   "id": "2c1e48b0",
   "metadata": {},
   "outputs": [],
   "source": []
  }
 ],
 "metadata": {
  "kernelspec": {
   "display_name": "Python 3 (ipykernel)",
   "language": "python",
   "name": "python3"
  },
  "language_info": {
   "codemirror_mode": {
    "name": "ipython",
    "version": 3
   },
   "file_extension": ".py",
   "mimetype": "text/x-python",
   "name": "python",
   "nbconvert_exporter": "python",
   "pygments_lexer": "ipython3",
   "version": "3.11.3"
  }
 },
 "nbformat": 4,
 "nbformat_minor": 5
}
